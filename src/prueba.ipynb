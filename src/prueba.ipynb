{
 "cells": [
  {
   "cell_type": "code",
   "execution_count": 13,
   "metadata": {},
   "outputs": [
    {
     "name": "stdout",
     "output_type": "stream",
     "text": [
      "[[1 1]\n",
      " [1 2]\n",
      " [1 3]\n",
      " [1 4]\n",
      " [1 5]]\n",
      "Epoch 0: MSE = None\n",
      "Epoch 1000: MSE = None\n",
      "Epoch 2000: MSE = None\n",
      "Epoch 3000: MSE = None\n",
      "Epoch 4000: MSE = None\n",
      "Epoch 5000: MSE = None\n",
      "Epoch 6000: MSE = None\n",
      "Epoch 7000: MSE = None\n",
      "Epoch 8000: MSE = None\n",
      "Epoch 9000: MSE = None\n",
      "2.347641149594714e-08\n",
      "[1.99999999]\n"
     ]
    }
   ],
   "source": [
    "import numpy as np\n",
    "X = np.array([[1,1], [1,2], [1,3], [1,4], [1,5]])\n",
    "y = np.array([2, 4, 6, 8, 10])\n",
    "print(X)\n",
    "learning_rate = 0.01\n",
    "# Initialize the parameters to very small values (close to 0)\n",
    "m = len(y)\n",
    "coefficients = (\n",
    "    np.random.rand(X.shape[1]-1) * 0.01\n",
    ")  # Small random numbers\n",
    "intercept = np.random.rand() * 0.01\n",
    "\n",
    "iterations = 10000\n",
    "# Implement gradient descent (TODO)\n",
    "for epoch in range(iterations):\n",
    "    predictions = []\n",
    "\n",
    "    for i in range(len(X)):\n",
    "        valor = intercept\n",
    "        for j in range(1,len(X[0])):\n",
    "            valor += X[i][j]*coefficients[j-1]\n",
    "        predictions.append(valor)\n",
    "    errores = predictions - y\n",
    "\n",
    "    # TODO: Write the gradient values and the updates for the paramenters\n",
    "    idx = 0\n",
    "    gradient = 0\n",
    "    error_total = 0\n",
    "    for error in errores:\n",
    "        gradient += error*X[idx][1]\n",
    "        error_total += error\n",
    "        idx += 1\n",
    "\n",
    "    gradiente_coeffs = (gradient/m)*learning_rate\n",
    "    intercept -= learning_rate*(error_total)/m\n",
    "    coefficients -= gradiente_coeffs\n",
    "\n",
    "    # TODO: Calculate and print the loss every 10 epochs\n",
    "    if epoch % 1000 == 0:\n",
    "        mse = None\n",
    "        print(f\"Epoch {epoch}: MSE = {mse}\")\n",
    "\n",
    "print(intercept)\n",
    "print(coefficients)"
   ]
  },
  {
   "cell_type": "code",
   "execution_count": null,
   "metadata": {},
   "outputs": [],
   "source": [
    "X = np.array(\n",
    "    [\n",
    "        [\"Red\", 10],\n",
    "        [\"Blue\", 20],\n",
    "        [\"Green\", 30],\n",
    "        [\"Red\", 40],\n",
    "    ],\n",
    "    dtype=object,\n",
    ")\n",
    "categorical_indices = [0]\n",
    "X_transformed = X.copy()\n",
    "num_filas = len(X)\n",
    "num_columnas = len(X[0])\n",
    "dict_posibles_categorias = {}\n",
    "for indice_categorico in sorted(categorical_indices, reverse=True):\n",
    "    unique_values = []\n",
    "    dict_posibles_categorias[indice_categorico] = []\n",
    "    for fila in range(0,num_filas):\n",
    "        valor_fila_categoria = X[fila][indice_categorico]\n",
    "        if valor_fila_categoria not in dict_posibles_categorias[indice_categorico]:\n",
    "            unique_values.append(valor_fila_categoria)\n",
    "            \n",
    "\n",
    "    categorical_column = None\n",
    "\n",
    "    # TODO: Find the unique categories (works with strings)\n",
    "    unique_values =  None\n",
    "\n",
    "    # TODO: Create a one-hot encoded matrix (np.array) for the current categorical column\n",
    "\n",
    "    # Optionally drop the first level of one-hot encoding\n",
    "    switch = False\n",
    "    if switch:\n",
    "        one_hot = one_hot[:, 1:]\n",
    "\n",
    "    # TODO: Delete the original categorical column from X_transformed and insert new one-hot encoded columns\n",
    "    X_transformed = None"
   ]
  },
  {
   "cell_type": "code",
   "execution_count": 36,
   "metadata": {},
   "outputs": [
    {
     "name": "stdout",
     "output_type": "stream",
     "text": [
      "[[10]\n",
      " [20]\n",
      " [30]\n",
      " [40]]\n"
     ]
    }
   ],
   "source": [
    "import numpy as np\n",
    "\n",
    "X = np.array(\n",
    "    [\n",
    "        [\"Red\", 10],\n",
    "        [\"Blue\", 20],\n",
    "        [\"Green\", 30],\n",
    "        [\"Red\", 40],\n",
    "    ],\n",
    "    dtype=object\n",
    ")\n",
    "\n",
    "categorical_indices = [0]  # Índice de la columna categórica\n",
    "\n",
    "# Extraer solo la columna categórica\n",
    "categorical_column = X[:, 1:]\n",
    "print(categorical_column)"
   ]
  },
  {
   "cell_type": "code",
   "execution_count": null,
   "metadata": {},
   "outputs": [],
   "source": []
  }
 ],
 "metadata": {
  "kernelspec": {
   "display_name": "CursoMachineLearning",
   "language": "python",
   "name": "python3"
  },
  "language_info": {
   "codemirror_mode": {
    "name": "ipython",
    "version": 3
   },
   "file_extension": ".py",
   "mimetype": "text/x-python",
   "name": "python",
   "nbconvert_exporter": "python",
   "pygments_lexer": "ipython3",
   "version": "3.11.5"
  }
 },
 "nbformat": 4,
 "nbformat_minor": 2
}
